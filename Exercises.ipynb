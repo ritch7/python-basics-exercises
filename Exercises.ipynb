{
 "cells": [
  {
   "cell_type": "code",
   "execution_count": null,
   "metadata": {},
   "outputs": [],
   "source": [
    "print(\"Alex' World\");\n",
    "print(\"This is a fucking text in\\\n",
    "which i have no fucking idea,\\\n",
    "that i should white about.\")\n",
    "print(\"\"\"This is a simelar text with\n",
    "eaven less on any creativety and \n",
    "fucking idea, what to write \n",
    "and what so however\"\"\")"
   ]
  },
  {
   "cell_type": "code",
   "execution_count": null,
   "metadata": {},
   "outputs": [],
   "source": [
    "x = \"String\"\n",
    "print(len(x))\n",
    "y = \"tanga\"\n",
    "fun = x + y\n",
    "print(fun)\n",
    "nofun = y + \" \" + x\n",
    "print(nofun)\n",
    "g = \"banzinga\"\n",
    "print(g[-5:-1])"
   ]
  },
  {
   "cell_type": "code",
   "execution_count": null,
   "metadata": {},
   "outputs": [],
   "source": [
    "inp = input(\"please give a input: \")\n",
    "print(\"your input was: \" + inp)"
   ]
  },
  {
   "cell_type": "code",
   "execution_count": null,
   "metadata": {},
   "outputs": [],
   "source": [
    "string1 = \"Animals\"\n",
    "string2 = \"Badger\"\n",
    "string3 = \"Honey Bee\"\n",
    "string4 = \"Honeybadger\"\n",
    "print(string1.lower())\n",
    "print(string2.lower())\n",
    "print(string3.lower())\n",
    "print(string4.lower())"
   ]
  },
  {
   "cell_type": "code",
   "execution_count": null,
   "metadata": {},
   "outputs": [],
   "source": [
    "inp = input(\"give Invput: \")\n",
    "print(\"input was: \" + inp.upper())"
   ]
  },
  {
   "cell_type": "code",
   "execution_count": 11,
   "metadata": {},
   "outputs": [
    {
     "name": "stdout",
     "output_type": "stream",
     "text": [
      "hi\n",
      "\n"
     ]
    },
    {
     "ename": "ValueError",
     "evalue": "could not convert string to float: ''",
     "output_type": "error",
     "traceback": [
      "\u001b[1;31m---------------------------------------------------------------------------\u001b[0m",
      "\u001b[1;31mValueError\u001b[0m                                Traceback (most recent call last)",
      "\u001b[1;32mc:\\Users\\ich\\Documents\\GitHub\\Python\\python-basics-exercises\\Exercises.ipynb Cell 6\u001b[0m line \u001b[0;36m4\n\u001b[0;32m      <a href='vscode-notebook-cell:/c%3A/Users/ich/Documents/GitHub/Python/python-basics-exercises/Exercises.ipynb#W6sZmlsZQ%3D%3D?line=1'>2</a>\u001b[0m num \u001b[39m=\u001b[39m \u001b[39minput\u001b[39m(\u001b[39m'\u001b[39m\u001b[39mplease input a number to be dubbled: \u001b[39m\u001b[39m'\u001b[39m)\n\u001b[0;32m      <a href='vscode-notebook-cell:/c%3A/Users/ich/Documents/GitHub/Python/python-basics-exercises/Exercises.ipynb#W6sZmlsZQ%3D%3D?line=2'>3</a>\u001b[0m \u001b[39mprint\u001b[39m()\n\u001b[1;32m----> <a href='vscode-notebook-cell:/c%3A/Users/ich/Documents/GitHub/Python/python-basics-exercises/Exercises.ipynb#W6sZmlsZQ%3D%3D?line=3'>4</a>\u001b[0m num \u001b[39m=\u001b[39m \u001b[39mfloat\u001b[39;49m(num) \u001b[39m*\u001b[39m \u001b[39m2\u001b[39m\n\u001b[0;32m      <a href='vscode-notebook-cell:/c%3A/Users/ich/Documents/GitHub/Python/python-basics-exercises/Exercises.ipynb#W6sZmlsZQ%3D%3D?line=4'>5</a>\u001b[0m \u001b[39mprint\u001b[39m (\u001b[39m\"\u001b[39m\u001b[39mthe double of the number is :\u001b[39m\u001b[39m\"\u001b[39m, num)\n",
      "\u001b[1;31mValueError\u001b[0m: could not convert string to float: ''"
     ]
    }
   ],
   "source": [
    "print(\"hi\")\n",
    "num = input('please input a number to be dubbled: ')\n",
    "print()\n",
    "num = float(num) * 2\n",
    "print (\"the double of the number is :\", num)"
   ]
  }
 ],
 "metadata": {
  "kernelspec": {
   "display_name": "lernipyenv",
   "language": "python",
   "name": "python3"
  },
  "language_info": {
   "codemirror_mode": {
    "name": "ipython",
    "version": 3
   },
   "file_extension": ".py",
   "mimetype": "text/x-python",
   "name": "python",
   "nbconvert_exporter": "python",
   "pygments_lexer": "ipython3",
   "version": "3.9.18"
  }
 },
 "nbformat": 4,
 "nbformat_minor": 2
}
