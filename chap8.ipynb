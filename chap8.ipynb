{
 "cells": [
  {
   "cell_type": "code",
   "execution_count": 1,
   "metadata": {},
   "outputs": [
    {
     "name": "stdout",
     "output_type": "stream",
     "text": [
      "True\n",
      "False\n",
      "True\n",
      "True\n",
      "True\n",
      "False\n"
     ]
    }
   ],
   "source": [
    "print(1 <= 1)\n",
    "print(1 != 1)\n",
    "print(1 != 2)\n",
    "print(\"good\" != \"bad\")\n",
    "print(\"good\" != \"Good\")\n",
    "print(123 == \"123\")"
   ]
  },
  {
   "cell_type": "code",
   "execution_count": 4,
   "metadata": {},
   "outputs": [
    {
     "name": "stdout",
     "output_type": "stream",
     "text": [
      "Player one is the winner!\n"
     ]
    }
   ],
   "source": [
    "sport = input(\"please enter a sport: \")\n",
    "p1_score = int(input(\"please enter the score for Player 1: \"))\n",
    "p2_score = int(input(\"please enter the score for Player 2: \"))\n",
    "#1\n",
    "if sport.lower() == \"tennis\":\n",
    "    if p1_score == p2_score:\n",
    "        print(\"its a tie at tennis!\")\n",
    "    elif p1_score > p2_score:\n",
    "        print(\"Player one is the winner!\")\n",
    "    elif p1_score < p2_score:\n",
    "        print(\"Player two is the winner!\")\n",
    "elif sport.lower() == \"golf\":\n",
    "    if p1_score == p2_score:\n",
    "        print(\"its a golf tie\")\n",
    "    elif p1_score > p2_score:\n",
    "        print(\"Player two is the winner!\")\n",
    "    elif p1_score < p2_score:\n",
    "        print(\"Player one is the winner!\")\n",
    "else :\n",
    "    print(sport)"
   ]
  },
  {
   "cell_type": "code",
   "execution_count": 4,
   "metadata": {},
   "outputs": [
    {
     "name": "stdout",
     "output_type": "stream",
     "text": [
      "unknown sport\n"
     ]
    }
   ],
   "source": [
    "sport = input(\"please enter a sport: \")\n",
    "p1_score = int(input(\"please enter the score for Player 1: \"))\n",
    "p2_score = int(input(\"please enter the score for Player 2: \"))\n",
    "#1\n",
    "if p1_score == p2_score:\n",
    "    print(\"its a drw!\")\n",
    "if sport.lower() == (\"basketball\" or \"golf\"):\n",
    "    if (sport.lower() == \"basketball\" and p1_score > p2_score) or (sport.lower() == \"golf\" and p1_score < p2_score):\n",
    "        print(\"player one is the winner!\")\n",
    "    elif (sport.lower() == \"basketball\" and p1_score < p2_score) or (sport.lower() == \"golf\" and p1_score > p2_score):\n",
    "        print(\"player two is the winner!\")\n",
    "else :\n",
    "    print(\"unknown sport\")"
   ]
  },
  {
   "cell_type": "code",
   "execution_count": 1,
   "metadata": {},
   "outputs": [
    {
     "name": "stdout",
     "output_type": "stream",
     "text": [
      "The word 'gift' is shorterthan five carakters.\n"
     ]
    }
   ],
   "source": [
    "word = input(\"please enter a word: \")\n",
    "if len(word) == 5:\n",
    "    print(f\"The word '{word}' is five carakters long.\")\n",
    "elif len(word) < 5:\n",
    "    print(f\"The word '{word}' is shorterthan five carakters.\")\n",
    "elif len(word) > 5:\n",
    "    print(f\"The word '{word}' is longer than five carakters.\")"
   ]
  },
  {
   "cell_type": "code",
   "execution_count": 4,
   "metadata": {},
   "outputs": [],
   "source": [
    "inp = \"e\"\n",
    "while inp  != \"q\":\n",
    "    inp = input(\"Please enter  a letter: \")\n",
    "    if inp.lower == \"q\":\n",
    "        print(\"Congrats you entered the right letter!\")\n",
    "        break\n",
    "    print(\"You entered not the right letter\")\n"
   ]
  }
 ],
 "metadata": {
  "kernelspec": {
   "display_name": "lernipyenv",
   "language": "python",
   "name": "python3"
  },
  "language_info": {
   "codemirror_mode": {
    "name": "ipython",
    "version": 3
   },
   "file_extension": ".py",
   "mimetype": "text/x-python",
   "name": "python",
   "nbconvert_exporter": "python",
   "pygments_lexer": "ipython3",
   "version": "3.9.18"
  }
 },
 "nbformat": 4,
 "nbformat_minor": 2
}
